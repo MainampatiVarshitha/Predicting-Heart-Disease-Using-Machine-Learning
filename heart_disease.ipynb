{
 "cells": [
  {
   "cell_type": "code",
   "execution_count": 1,
   "id": "7a0435d9-e707-42c2-a202-3bd76d009b12",
   "metadata": {},
   "outputs": [],
   "source": [
    "# Importing Libraries\n",
    "import pandas as pd\n",
    "from sklearn.model_selection import train_test_split\n",
    "from sklearn.preprocessing import LabelEncoder, StandardScaler\n",
    "from sklearn.ensemble import RandomForestClassifier, GradientBoostingClassifier\n",
    "from sklearn.svm import SVC\n",
    "from sklearn.neighbors import KNeighborsClassifier\n",
    "from sklearn.metrics import accuracy_score"
   ]
  },
  {
   "cell_type": "code",
   "execution_count": 2,
   "id": "3b516be3-dabe-4190-990d-e62d9206f3b0",
   "metadata": {},
   "outputs": [],
   "source": [
    "# Load the dataset\n",
    "file_path = \"heart_expanded_final.csv\"\n",
    "df = pd.read_csv(file_path)\n",
    "\n",
    "# Handle missing values separately for numerical and categorical columns\n",
    "for col in df.select_dtypes(include=['number']).columns:\n",
    "    df[col].fillna(df[col].median(), inplace=True)\n",
    "for col in df.select_dtypes(include=['object']).columns:\n",
    "    df[col].fillna(df[col].mode()[0], inplace=True)\n",
    "\n",
    "# Encode categorical columns\n",
    "categorical_columns = [\"COVID History\", \"Vaccination Status\", \"Diet Type\"]\n",
    "label_encoders = {}\n",
    "for col in categorical_columns:\n",
    "    le = LabelEncoder()\n",
    "    df[col] = le.fit_transform(df[col])\n",
    "    label_encoders[col] = le\n",
    "\n",
    "# Split features and target\n",
    "X = df.drop(columns=[\"output\"])\n",
    "y = df[\"output\"]"
   ]
  },
  {
   "cell_type": "code",
   "execution_count": 3,
   "id": "72c4a3d2-2243-4091-a8a9-356908e000bd",
   "metadata": {},
   "outputs": [],
   "source": [
    "# Standardize numerical features\n",
    "scaler = StandardScaler()\n",
    "X_scaled = scaler.fit_transform(X)\n",
    "# Split data into training and testing sets\n",
    "X_train, X_test, y_train, y_test = train_test_split(X_scaled, y, test_size=0.2, random_state=42)"
   ]
  },
  {
   "cell_type": "code",
   "execution_count": 4,
   "id": "0bfaaad5-ff8e-405b-952a-2ec2d9d10780",
   "metadata": {},
   "outputs": [
    {
     "name": "stdout",
     "output_type": "stream",
     "text": [
      "RandomForest Model Accuracy: 0.985\n",
      "GradientBoosting Model Accuracy: 0.985\n",
      "SVM Model Accuracy: 0.85\n",
      "KNN Model Accuracy: 0.915\n",
      "Best Model: RandomForestClassifier with Accuracy: 0.985\n"
     ]
    }
   ],
   "source": [
    "# Train and evaluate multiple models\n",
    "models = {\n",
    "    \"RandomForest\": RandomForestClassifier(n_estimators=100, random_state=42),\n",
    "    \"GradientBoosting\": GradientBoostingClassifier(random_state=42),\n",
    "    \"SVM\": SVC(kernel='linear', random_state=42),\n",
    "    \"KNN\": KNeighborsClassifier()\n",
    "}\n",
    "\n",
    "best_model = None\n",
    "best_accuracy = 0\n",
    "\n",
    "for name, model in models.items():\n",
    "    model.fit(X_train, y_train)\n",
    "    y_pred = model.predict(X_test)\n",
    "    accuracy = accuracy_score(y_test, y_pred)\n",
    "    print(f\"{name} Model Accuracy: {accuracy}\")\n",
    "    if accuracy > best_accuracy:\n",
    "        best_accuracy = accuracy\n",
    "        best_model = model\n",
    "\n",
    "print(f\"Best Model: {best_model.__class__.__name__} with Accuracy: {best_accuracy}\")"
   ]
  },
  {
   "cell_type": "code",
   "execution_count": 7,
   "id": "71caede0-edaa-40b0-a927-4191a4ebfb0c",
   "metadata": {},
   "outputs": [
    {
     "name": "stdin",
     "output_type": "stream",
     "text": [
      "Enter value for age:  18\n",
      "Enter value for sex:  1\n",
      "Enter value for cp:  1\n",
      "Enter value for trtbps:  1\n",
      "Enter value for chol:  1\n",
      "Enter value for fbs:  1\n",
      "Enter value for restecg:  1\n",
      "Enter value for thalachh:  1\n",
      "Enter value for exng:  0\n",
      "Enter value for oldpeak:  0\n",
      "Enter value for slp:  0\n",
      "Enter value for caa:  0\n",
      "Enter value for thall:  1\n"
     ]
    },
    {
     "name": "stdout",
     "output_type": "stream",
     "text": [
      "Available options for COVID History: ['No' 'Yes']\n"
     ]
    },
    {
     "name": "stdin",
     "output_type": "stream",
     "text": [
      "Enter value for COVID History:  yes\n"
     ]
    },
    {
     "name": "stdout",
     "output_type": "stream",
     "text": [
      "Available options for Vaccination Status: ['Fully' 'Not Vaccinated' 'Partially']\n"
     ]
    },
    {
     "name": "stdin",
     "output_type": "stream",
     "text": [
      "Enter value for Vaccination Status:  1\n"
     ]
    },
    {
     "name": "stdout",
     "output_type": "stream",
     "text": [
      "Available options for Diet Type: ['Non-Vegetarian' 'Vegan' 'Vegetarian']\n"
     ]
    },
    {
     "name": "stdin",
     "output_type": "stream",
     "text": [
      "Enter value for Diet Type:  1\n",
      "Enter value for Daily Calorie Intake:  1\n"
     ]
    },
    {
     "name": "stdout",
     "output_type": "stream",
     "text": [
      "Prediction: Heart Disease Detected\n"
     ]
    }
   ],
   "source": [
    "# Function for user input prediction\n",
    "def predict_heart_disease():\n",
    "    user_input = {}\n",
    "    for col in X.columns:\n",
    "        if col in categorical_columns:\n",
    "            # For categorical columns, show available options\n",
    "            print(f\"Available options for {col}: {label_encoders[col].classes_}\")\n",
    "            user_input[col] = input(f\"Enter value for {col}: \")\n",
    "        else:\n",
    "            # For numerical columns, take input directly\n",
    "            user_input[col] = float(input(f\"Enter value for {col}: \"))\n",
    "    \n",
    "    # Convert user input into a DataFrame\n",
    "    input_df = pd.DataFrame([user_input], columns=X.columns)\n",
    "    \n",
    "    # Encode categorical columns in user input\n",
    "    for col in categorical_columns:\n",
    "        if col in input_df:\n",
    "            input_df[col] = input_df[col].map(lambda x: label_encoders[col].transform([x])[0] if x in label_encoders[col].classes_ else -1)\n",
    "    \n",
    "    # Standardize the input data\n",
    "    input_scaled = scaler.transform(input_df)\n",
    "    \n",
    "    # Make prediction\n",
    "    prediction = best_model.predict(input_scaled)\n",
    "    print(\"Prediction:\", \"Heart Disease Detected\" if prediction[0] == 1 else \"No Heart Disease\")\n",
    "    # Prompt user for input\n",
    "predict_heart_disease()"
   ]
  },
  {
   "cell_type": "code",
   "execution_count": null,
   "id": "b21be3b9-c641-46a1-9560-83c5c894c69e",
   "metadata": {},
   "outputs": [],
   "source": []
  }
 ],
 "metadata": {
  "kernelspec": {
   "display_name": "Python 3 (ipykernel)",
   "language": "python",
   "name": "python3"
  },
  "language_info": {
   "codemirror_mode": {
    "name": "ipython",
    "version": 3
   },
   "file_extension": ".py",
   "mimetype": "text/x-python",
   "name": "python",
   "nbconvert_exporter": "python",
   "pygments_lexer": "ipython3",
   "version": "3.11.7"
  }
 },
 "nbformat": 4,
 "nbformat_minor": 5
}
